{
  "nbformat": 4,
  "nbformat_minor": 0,
  "metadata": {
    "colab": {
      "provenance": [],
      "include_colab_link": true
    },
    "kernelspec": {
      "name": "python3",
      "display_name": "Python 3"
    },
    "language_info": {
      "name": "python"
    }
  },
  "cells": [
    {
      "cell_type": "markdown",
      "metadata": {
        "id": "view-in-github",
        "colab_type": "text"
      },
      "source": [
        "<a href=\"https://colab.research.google.com/github/ZiyueLiu-zl3472/week-9/blob/main/Filter.ipynb\" target=\"_parent\"><img src=\"https://colab.research.google.com/assets/colab-badge.svg\" alt=\"Open In Colab\"/></a>"
      ]
    },
    {
      "cell_type": "markdown",
      "source": [
        "## `filter` operator\n",
        "[Video](https://drive.google.com/file/d/10cW5Sa4PixcMTv_UmnUdY80i3DIC1ifU/view?usp=sharing)"
      ],
      "metadata": {
        "id": "tqJCrV0x6BCN"
      }
    },
    {
      "cell_type": "markdown",
      "source": [
        "- Create an example list"
      ],
      "metadata": {
        "id": "_3XlMcCyWXUT"
      }
    },
    {
      "cell_type": "code",
      "execution_count": null,
      "metadata": {
        "id": "7vHhkVLsWXUc",
        "outputId": "d15f93a7-3a2c-468e-9e75-56db6751bf92",
        "colab": {
          "base_uri": "https://localhost:8080/"
        }
      },
      "outputs": [
        {
          "output_type": "execute_result",
          "data": {
            "text/plain": [
              "[40, 41, 42, 43, 44, 45]"
            ]
          },
          "metadata": {},
          "execution_count": 1
        }
      ],
      "source": [
        "data = list(range(40,46))\n",
        "data"
      ]
    },
    {
      "cell_type": "markdown",
      "source": [
        "- Create a boolean function (return whether the input is an odd number）\n",
        "\n"
      ],
      "metadata": {
        "id": "2PIuirvQWXUd"
      }
    },
    {
      "cell_type": "code",
      "source": [
        "def isodd (x): #function that operates element wise\n",
        "    return x%2 != 0 #look at if x is even or odd - return x/2 doesn't=0"
      ],
      "metadata": {
        "id": "mLfRx1jSWXUd"
      },
      "execution_count": 4,
      "outputs": []
    },
    {
      "cell_type": "markdown",
      "source": [
        "- Input the list to the function doesn't work\n",
        "- *How to get the number which is right?*"
      ],
      "metadata": {
        "id": "BSM944F1WXUd"
      }
    },
    {
      "cell_type": "code",
      "source": [
        "isodd(data) #looking for 1 x, data is list"
      ],
      "metadata": {
        "id": "IHJK9Oj9WXUd",
        "colab": {
          "base_uri": "https://localhost:8080/",
          "height": 207
        },
        "outputId": "76d59414-1d8f-4448-e758-ebe59e0c08a9"
      },
      "execution_count": 5,
      "outputs": [
        {
          "output_type": "error",
          "ename": "TypeError",
          "evalue": "unsupported operand type(s) for %: 'list' and 'int'",
          "traceback": [
            "\u001b[0;31m---------------------------------------------------------------------------\u001b[0m",
            "\u001b[0;31mTypeError\u001b[0m                                 Traceback (most recent call last)",
            "\u001b[0;32m<ipython-input-5-7c29b6ae92fb>\u001b[0m in \u001b[0;36m<cell line: 0>\u001b[0;34m()\u001b[0m\n\u001b[0;32m----> 1\u001b[0;31m \u001b[0misodd\u001b[0m\u001b[0;34m(\u001b[0m\u001b[0mdata\u001b[0m\u001b[0;34m)\u001b[0m\u001b[0;34m\u001b[0m\u001b[0;34m\u001b[0m\u001b[0m\n\u001b[0m",
            "\u001b[0;32m<ipython-input-4-7ea92ce48930>\u001b[0m in \u001b[0;36misodd\u001b[0;34m(x)\u001b[0m\n\u001b[1;32m      1\u001b[0m \u001b[0;32mdef\u001b[0m \u001b[0misodd\u001b[0m \u001b[0;34m(\u001b[0m\u001b[0mx\u001b[0m\u001b[0;34m)\u001b[0m\u001b[0;34m:\u001b[0m \u001b[0;31m#function that operates element wise\u001b[0m\u001b[0;34m\u001b[0m\u001b[0;34m\u001b[0m\u001b[0m\n\u001b[0;32m----> 2\u001b[0;31m     \u001b[0;32mreturn\u001b[0m \u001b[0mx\u001b[0m\u001b[0;34m%\u001b[0m\u001b[0;36m2\u001b[0m \u001b[0;34m!=\u001b[0m \u001b[0;36m0\u001b[0m \u001b[0;31m#look at if x is even or odd - if x/2 doesn't=0\u001b[0m\u001b[0;34m\u001b[0m\u001b[0;34m\u001b[0m\u001b[0m\n\u001b[0m",
            "\u001b[0;31mTypeError\u001b[0m: unsupported operand type(s) for %: 'list' and 'int'"
          ]
        }
      ]
    },
    {
      "cell_type": "markdown",
      "source": [
        "- Use `filter()` function to input list into function and return the number who can pass function\n",
        "\n",
        "- The filter formula takes two parameters, the formula and the data\n",
        "- You have to use the list() to turn the result of the filter formula into a list\n",
        "\n"
      ],
      "metadata": {
        "id": "C4sT2mOXWXUd"
      }
    },
    {
      "cell_type": "code",
      "source": [
        "list(filter(isodd,data)) #every element in the list that meets a specific criteria"
      ],
      "metadata": {
        "id": "E2psLtx_WXUd",
        "colab": {
          "base_uri": "https://localhost:8080/"
        },
        "outputId": "dd7e40f6-8333-4b37-f6da-3e3c03d01a12"
      },
      "execution_count": 6,
      "outputs": [
        {
          "output_type": "execute_result",
          "data": {
            "text/plain": [
              "[41, 43, 45]"
            ]
          },
          "metadata": {},
          "execution_count": 6
        }
      ]
    },
    {
      "cell_type": "markdown",
      "source": [
        "### Homework\n",
        "- Define a function `filter_list(input_list)` using filter to return all the lists whose length is equal to 3 from a nested list.\n",
        "   - E.g. `L = [[2, 5, 4, 9], [2, 2], [3, 4, 5]]` `filter_list(L) => [[3, 4, 5]]`"
      ],
      "metadata": {
        "id": "QmwPH_MhKbr7"
      }
    },
    {
      "cell_type": "code",
      "source": [
        "L = [[2, 5, 4, 9], [2, 2], [3, 4, 5]]\n",
        "def eq3(x):\n",
        "    return len(x)==3\n",
        "\n",
        "eq3(L[1])"
      ],
      "metadata": {
        "id": "yn-ByH5ztEkG",
        "outputId": "92adf1b2-332b-4adc-f97e-1508f4a99cce",
        "colab": {
          "base_uri": "https://localhost:8080/"
        }
      },
      "execution_count": 9,
      "outputs": [
        {
          "output_type": "execute_result",
          "data": {
            "text/plain": [
              "False"
            ]
          },
          "metadata": {},
          "execution_count": 9
        }
      ]
    },
    {
      "cell_type": "code",
      "source": [
        "def filter_list(input_list):\n",
        "    return len(input_list)==3\n",
        "\n",
        "L = [[2, 5, 4, 9], [2, 2], [3, 4, 5]]\n",
        "list(filter(filter_list,L))"
      ],
      "metadata": {
        "id": "ahVj5LDDKpa6",
        "colab": {
          "base_uri": "https://localhost:8080/"
        },
        "outputId": "052016dd-cabd-46d1-9218-18c507f4e27c"
      },
      "execution_count": 11,
      "outputs": [
        {
          "output_type": "execute_result",
          "data": {
            "text/plain": [
              "[[3, 4, 5]]"
            ]
          },
          "metadata": {},
          "execution_count": 11
        }
      ]
    }
  ]
}