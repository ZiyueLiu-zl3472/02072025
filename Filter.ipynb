{
  "nbformat": 4,
  "nbformat_minor": 0,
  "metadata": {
    "colab": {
      "provenance": [],
      "include_colab_link": true
    },
    "kernelspec": {
      "name": "python3",
      "display_name": "Python 3"
    },
    "language_info": {
      "name": "python"
    }
  },
  "cells": [
    {
      "cell_type": "markdown",
      "metadata": {
        "id": "view-in-github",
        "colab_type": "text"
      },
      "source": [
        "<a href=\"https://colab.research.google.com/github/ZiyueLiu-zl3472/week-9/blob/main/Filter.ipynb\" target=\"_parent\"><img src=\"https://colab.research.google.com/assets/colab-badge.svg\" alt=\"Open In Colab\"/></a>"
      ]
    },
    {
      "cell_type": "markdown",
      "source": [
        "## `filter` operator\n",
        "[Video](https://drive.google.com/file/d/10cW5Sa4PixcMTv_UmnUdY80i3DIC1ifU/view?usp=sharing)"
      ],
      "metadata": {
        "id": "tqJCrV0x6BCN"
      }
    },
    {
      "cell_type": "markdown",
      "source": [
        "- Create an example list"
      ],
      "metadata": {
        "id": "_3XlMcCyWXUT"
      }
    },
    {
      "cell_type": "code",
      "execution_count": null,
      "metadata": {
        "id": "7vHhkVLsWXUc",
        "outputId": "d15f93a7-3a2c-468e-9e75-56db6751bf92",
        "colab": {
          "base_uri": "https://localhost:8080/"
        }
      },
      "outputs": [
        {
          "output_type": "execute_result",
          "data": {
            "text/plain": [
              "[40, 41, 42, 43, 44, 45]"
            ]
          },
          "metadata": {},
          "execution_count": 1
        }
      ],
      "source": [
        "data = list(range(40,46))\n",
        "data"
      ]
    },
    {
      "cell_type": "markdown",
      "source": [
        "- Create a boolean function (return whether the input is an odd number）\n",
        "\n"
      ],
      "metadata": {
        "id": "2PIuirvQWXUd"
      }
    },
    {
      "cell_type": "code",
      "source": [
        "def isodd (x): #function that operates element wise\n",
        "    return x%2 != 0"
      ],
      "metadata": {
        "id": "mLfRx1jSWXUd"
      },
      "execution_count": null,
      "outputs": []
    },
    {
      "cell_type": "markdown",
      "source": [
        "- Input the list to the function doesn't work\n",
        "- *How to get the number which is right?*"
      ],
      "metadata": {
        "id": "BSM944F1WXUd"
      }
    },
    {
      "cell_type": "code",
      "source": [
        "isodd(data)"
      ],
      "metadata": {
        "id": "IHJK9Oj9WXUd"
      },
      "execution_count": null,
      "outputs": []
    },
    {
      "cell_type": "markdown",
      "source": [
        "- Use `filter()` function to input list into function and return the number who can pass function\n",
        "\n",
        "- The filter formula takes two parameters, the formula and the data\n",
        "- You have to use the list() to turn the result of the filter formula into a list\n",
        "\n"
      ],
      "metadata": {
        "id": "C4sT2mOXWXUd"
      }
    },
    {
      "cell_type": "code",
      "source": [
        "list(filter(isodd,data))"
      ],
      "metadata": {
        "id": "E2psLtx_WXUd"
      },
      "execution_count": null,
      "outputs": []
    },
    {
      "cell_type": "markdown",
      "source": [
        "### Homework\n",
        "- Define a function `filter_list(input_list)` using filter to return all the lists whose length is equal to 3 from a nested list.\n",
        "   - E.g. `L = [[2, 5, 4, 9], [2, 2], [3, 4, 5]]` `filter_list(L) => [[3, 4, 5]]`"
      ],
      "metadata": {
        "id": "QmwPH_MhKbr7"
      }
    },
    {
      "cell_type": "code",
      "source": [
        "def filter_list(input_list):\n",
        "    \"\"\"\n",
        "    :param input_list: a nested list\n",
        "    :return: all the lists whose length is 3 from a nested list\n",
        "    \"\"\"\n",
        "    # Your code here\n",
        "    pass"
      ],
      "metadata": {
        "id": "ahVj5LDDKpa6"
      },
      "execution_count": null,
      "outputs": []
    }
  ]
}