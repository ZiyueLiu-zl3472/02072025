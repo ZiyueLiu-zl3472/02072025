{
  "nbformat": 4,
  "nbformat_minor": 0,
  "metadata": {
    "colab": {
      "provenance": [],
      "include_colab_link": true
    },
    "kernelspec": {
      "name": "python3",
      "display_name": "Python 3"
    },
    "language_info": {
      "name": "python"
    }
  },
  "cells": [
    {
      "cell_type": "markdown",
      "metadata": {
        "id": "view-in-github",
        "colab_type": "text"
      },
      "source": [
        "<a href=\"https://colab.research.google.com/github/ZiyueLiu-zl3472/week9/blob/main/contexts.ipynb\" target=\"_parent\"><img src=\"https://colab.research.google.com/assets/colab-badge.svg\" alt=\"Open In Colab\"/></a>"
      ]
    },
    {
      "cell_type": "markdown",
      "source": [
        "## Context Manager"
      ],
      "metadata": {
        "id": "Cr24E79K6NL_"
      }
    },
    {
      "cell_type": "markdown",
      "source": [
        "- What is context manager?\n",
        "  - A context manager usually takes care of setting up some resource, e.g. opening a database connection, and automatically handles the clean up when we are done with it.\n",
        "  - You will use `__ enter __` & `__ exit __` & `with`\n",
        "\n",
        "\n"
      ],
      "metadata": {
        "id": "6jF6dwa_dxLs"
      }
    },
    {
      "cell_type": "markdown",
      "source": [
        "- What is the `with` function?\n",
        "  - \"with\" statement is used to wrap the execution of a block of code with methods defined by a context manager. A context manager is an object that defines the methods `__ enter __()` and `__ exit __()`.\n",
        "  - file is closed automatically even if an exception is raised within the block of code.\n",
        "\n"
      ],
      "metadata": {
        "id": "IHIUvIf-Eep5"
      }
    },
    {
      "cell_type": "code",
      "source": [
        "with open(\"example.txt\") as f:\n",
        "    data = f.read()\n",
        "    # do something with the file"
      ],
      "metadata": {
        "id": "0D3eONIYEoE4"
      },
      "execution_count": null,
      "outputs": []
    },
    {
      "cell_type": "markdown",
      "source": [
        "- In this example, the `OpenFile` class is a context manager that opens a file in the specified mode when the with statement is executed, and closes the file when the block of code is finished.\n",
        "- The file object is returned by the `enter()` method and is assigned to the variable `f` in the with statement."
      ],
      "metadata": {
        "id": "QqFyrGPPp3RA"
      }
    },
    {
      "cell_type": "code",
      "execution_count": null,
      "metadata": {
        "id": "wmYtkxA2dxL0"
      },
      "outputs": [],
      "source": [
        "class OpenFile:\n",
        "    def __init__(self, filename, mode):\n",
        "        self.filename = filename\n",
        "        self.mode = mode\n",
        "\n",
        "    def __enter__(self):\n",
        "        self.file = open(self.filename, self.mode)\n",
        "        return self.file\n",
        "\n",
        "    def __exit__(self, exc_type, exc_val, exc_tb):\n",
        "        self.file.close()\n",
        "\n",
        "with OpenFile('example.txt', 'w') as f:\n",
        "    f.write('This is written to the file')"
      ]
    },
    {
      "cell_type": "markdown",
      "source": [
        "- There is another way to use contextlib library to build context managers using decorator\n",
        "\n",
        "- `@contextlib.contextmanager` decorator can be applied to a generator function that yields a value, and the value is returned by the `__enter__` method, and the generator function is closed when the `__exit__` is called.\n",
        "\n"
      ],
      "metadata": {
        "id": "nJD2SH6WdxL0"
      }
    },
    {
      "cell_type": "markdown",
      "source": [
        "- Another example using context manager"
      ],
      "metadata": {
        "id": "1Yuk3qKi-Gjq"
      }
    },
    {
      "cell_type": "code",
      "source": [
        "import contextlib\n",
        "\n",
        "@contextlib.contextmanager\n",
        "def open_file(file_name, mode):\n",
        "    the_file = open(file_name, mode)\n",
        "    yield the_file\n",
        "    the_file.close()\n",
        "\n",
        "with open_file('example.txt', 'w') as f:\n",
        "    f.write('This is written to the file')"
      ],
      "metadata": {
        "id": "Gia7K5rYs7uC"
      },
      "execution_count": null,
      "outputs": []
    },
    {
      "cell_type": "markdown",
      "source": [
        "### Homework\n",
        "\n",
        "- Similar to the previous homework, we would like to recreate the `time_it` decorator as a context manager.\n",
        "- Implement a context manager called `time_it` that will **print out** the execution time of the function nested in the `with` statement.\n",
        "- The context manager should print out a string following this format below:\n",
        "    - `\"The function takes <0.00125> seconds\"`\n",
        "- You may use the functions from the Python [datetime](https://docs.python.org/3/library/datetime.html#timedelta-objects) module to calculate the time used.\n",
        "- You can test your context manager with the code below:\n",
        "```\n",
        "@contextlib.contextmanager\n",
        "def time_it():\n",
        "    # Your code here\n",
        "    pass\n",
        "```\n",
        "```\n",
        "with time_it() as timer:\n",
        "    # Any function/code that consumes time\n",
        "```"
      ],
      "metadata": {
        "id": "Csn9HoG7Sohg"
      }
    },
    {
      "cell_type": "code",
      "source": [
        "import contextlib\n",
        "import datetime\n",
        "\n",
        "@contextlib.contextmanager\n",
        "def time_it():\n",
        "    start_time = datetime.datetime.now()\n",
        "    try:\n",
        "        yield\n",
        "    finally:\n",
        "        end_time = datetime.datetime.now()\n",
        "        elapsed_time = (end_time - start_time).total_seconds()\n",
        "        print(\"The function takes {:.5f} seconds\".format(elapsed_time))\n",
        "\n",
        "with time_it():\n",
        "    total = 0\n",
        "    for i in range(1000000):\n",
        "        total += i"
      ],
      "metadata": {
        "id": "L8iwOvofUTTo",
        "outputId": "1de5c982-b813-4840-f133-eae482ecc340",
        "colab": {
          "base_uri": "https://localhost:8080/"
        }
      },
      "execution_count": 1,
      "outputs": [
        {
          "output_type": "stream",
          "name": "stdout",
          "text": [
            "The function takes 0.48882 seconds\n"
          ]
        }
      ]
    },
    {
      "cell_type": "code",
      "source": [],
      "metadata": {
        "id": "6msSHWgENBsJ"
      },
      "execution_count": null,
      "outputs": []
    }
  ]
}