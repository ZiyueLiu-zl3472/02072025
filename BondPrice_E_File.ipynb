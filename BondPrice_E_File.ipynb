{
  "nbformat": 4,
  "nbformat_minor": 0,
  "metadata": {
    "colab": {
      "provenance": [],
      "authorship_tag": "ABX9TyNf8CgfTZU+uocfXFSiQKl4",
      "include_colab_link": true
    },
    "kernelspec": {
      "name": "python3",
      "display_name": "Python 3"
    },
    "language_info": {
      "name": "python"
    }
  },
  "cells": [
    {
      "cell_type": "markdown",
      "metadata": {
        "id": "view-in-github",
        "colab_type": "text"
      },
      "source": [
        "<a href=\"https://colab.research.google.com/github/ZiyueLiu-zl3472/02072025/blob/main/BondPrice_E_File.ipynb\" target=\"_parent\"><img src=\"https://colab.research.google.com/assets/colab-badge.svg\" alt=\"Open In Colab\"/></a>"
      ]
    },
    {
      "cell_type": "code",
      "execution_count": null,
      "metadata": {
        "id": "RAnB7cPInNKl"
      },
      "outputs": [],
      "source": [
        "def getBondPrice_E(face, couponRate, m, yc):\n",
        "    bondPrice = 0\n",
        "    df = 1\n",
        "    c = face * couponRate\n",
        "    for i in range(1, m+1):\n",
        "      df = 1/(1+yc[i-1])**i\n",
        "      if i != m:\n",
        "        bondPrice+=c*df\n",
        "      else:\n",
        "        bondPrice+=c*df+face*df\n",
        "    return(bondPrice)\n",
        "\n",
        "# Test values\n",
        "\n",
        "yc = [.010, .015, .020, .025, .030]\n",
        "face = 2000000\n",
        "couponRate = 0.04\n",
        "m=5\n",
        "\n",
        "getBondPrice_E(face, couponRate, m, yc)\n"
      ]
    }
  ]
}