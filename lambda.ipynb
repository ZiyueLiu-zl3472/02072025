{
  "nbformat": 4,
  "nbformat_minor": 0,
  "metadata": {
    "colab": {
      "provenance": [],
      "include_colab_link": true
    },
    "kernelspec": {
      "name": "python3",
      "display_name": "Python 3"
    },
    "language_info": {
      "name": "python"
    }
  },
  "cells": [
    {
      "cell_type": "markdown",
      "metadata": {
        "id": "view-in-github",
        "colab_type": "text"
      },
      "source": [
        "<a href=\"https://colab.research.google.com/github/ZiyueLiu-zl3472/week-9/blob/main/lambda.ipynb\" target=\"_parent\"><img src=\"https://colab.research.google.com/assets/colab-badge.svg\" alt=\"Open In Colab\"/></a>"
      ]
    },
    {
      "cell_type": "markdown",
      "source": [
        "## `lambda` function\n",
        "[Video](https://drive.google.com/file/d/10gjUrxGP0mt_USvL-KCRQt909qSQJ4I-/view?usp=sharing)"
      ],
      "metadata": {
        "id": "qiT576Ve6Cgz"
      }
    },
    {
      "cell_type": "markdown",
      "source": [
        "- Create an example list"
      ],
      "metadata": {
        "id": "UNMxKNQlWfCe"
      }
    },
    {
      "cell_type": "code",
      "execution_count": 1,
      "metadata": {
        "id": "UwwLVBpsWfCf",
        "colab": {
          "base_uri": "https://localhost:8080/"
        },
        "outputId": "faac80d7-295d-4640-895d-fcb74d832c13"
      },
      "outputs": [
        {
          "output_type": "execute_result",
          "data": {
            "text/plain": [
              "[40, 41, 42, 43, 44, 45]"
            ]
          },
          "metadata": {},
          "execution_count": 1
        }
      ],
      "source": [
        "data = list(range(40,46))\n",
        "data"
      ]
    },
    {
      "cell_type": "markdown",
      "source": [
        "- Create the first function\n"
      ],
      "metadata": {
        "id": "HW_PaGGwWfCf"
      }
    },
    {
      "cell_type": "code",
      "source": [
        "def func(x):\n",
        "  return x+7"
      ],
      "metadata": {
        "id": "OBmP8qxsWfCf"
      },
      "execution_count": 2,
      "outputs": []
    },
    {
      "cell_type": "markdown",
      "source": [
        "- Create the second function\n"
      ],
      "metadata": {
        "id": "Wo5iJnGqWfCg"
      }
    },
    {
      "cell_type": "code",
      "source": [
        "def func2(x):\n",
        "  return x**7 #return to 7th power"
      ],
      "metadata": {
        "id": "edwO4CCLWfCg"
      },
      "execution_count": 3,
      "outputs": []
    },
    {
      "cell_type": "markdown",
      "source": [
        "- Normal way to put second function into first function"
      ],
      "metadata": {
        "id": "1UKZolJXWfCg"
      }
    },
    {
      "cell_type": "code",
      "source": [
        "func(func2(2)) #(2 to the 7th power)+7\n",
        "#call one function inside another function"
      ],
      "metadata": {
        "id": "XPYGqG7mWfCg",
        "colab": {
          "base_uri": "https://localhost:8080/"
        },
        "outputId": "bfe4fb6e-db6f-4f39-d37b-2e663bdd5cb9"
      },
      "execution_count": 5,
      "outputs": [
        {
          "output_type": "execute_result",
          "data": {
            "text/plain": [
              "135"
            ]
          },
          "metadata": {},
          "execution_count": 5
        }
      ]
    },
    {
      "cell_type": "markdown",
      "source": [
        "- Use lambda function to get same result by creating only one function\n",
        "- The advantage is that you don't have to define equations that you will only use a few times, thus simplifying the code\n",
        "\n",
        "\n"
      ],
      "metadata": {
        "id": "k_JA1OPoWfCg"
      }
    },
    {
      "cell_type": "code",
      "source": [
        "def func(x):\n",
        "  func2 = lambda x : x**7 #only lives here, not in the general programming space\n",
        "  return func2(x)+7\n",
        "\n",
        "func(2)"
      ],
      "metadata": {
        "id": "qnvC7ca-WfCh",
        "colab": {
          "base_uri": "https://localhost:8080/"
        },
        "outputId": "4ea8ab85-27a1-462d-9dd7-54701c18ab8c"
      },
      "execution_count": 6,
      "outputs": [
        {
          "output_type": "execute_result",
          "data": {
            "text/plain": [
              "135"
            ]
          },
          "metadata": {},
          "execution_count": 6
        }
      ]
    },
    {
      "cell_type": "markdown",
      "source": [
        "- Lambda function can take any number of parameters.\n",
        "\n",
        "\n"
      ],
      "metadata": {
        "id": "1-xM_1wtWfCh"
      }
    },
    {
      "cell_type": "code",
      "source": [
        "func3 = lambda x,y : x+y\n",
        "func3(5,5)"
      ],
      "metadata": {
        "id": "KmF0ljwpWfCh",
        "colab": {
          "base_uri": "https://localhost:8080/"
        },
        "outputId": "2f5850c5-7471-4847-acbf-4d87144db803"
      },
      "execution_count": 7,
      "outputs": [
        {
          "output_type": "execute_result",
          "data": {
            "text/plain": [
              "10"
            ]
          },
          "metadata": {},
          "execution_count": 7
        }
      ]
    },
    {
      "cell_type": "markdown",
      "source": [
        "- You can also set the value of the lambda directly in its parameters\n"
      ],
      "metadata": {
        "id": "Ge590aS418TX"
      }
    },
    {
      "cell_type": "code",
      "source": [
        "func3 = lambda x,y=5 : x+y\n",
        "func3(5)"
      ],
      "metadata": {
        "id": "4AqMHHH82BEr",
        "colab": {
          "base_uri": "https://localhost:8080/"
        },
        "outputId": "6d5156ee-c5aa-4549-c453-fdf6ad57bcf8"
      },
      "execution_count": 8,
      "outputs": [
        {
          "output_type": "execute_result",
          "data": {
            "text/plain": [
              "10"
            ]
          },
          "metadata": {},
          "execution_count": 8
        }
      ]
    },
    {
      "cell_type": "markdown",
      "source": [
        "- Combine map function and lambda function"
      ],
      "metadata": {
        "id": "sAyU6aNF4krt"
      }
    },
    {
      "cell_type": "code",
      "source": [
        "a = [1,2,3,4,5,6,7,8,9]\n",
        "\n",
        "newlist = list(map(lambda x: x+7,a))\n",
        "\n",
        "newlist"
      ],
      "metadata": {
        "id": "O9_vmwdm4or-",
        "colab": {
          "base_uri": "https://localhost:8080/"
        },
        "outputId": "59b12a50-3e91-47fe-fd12-74001f7619f0"
      },
      "execution_count": 9,
      "outputs": [
        {
          "output_type": "execute_result",
          "data": {
            "text/plain": [
              "[8, 9, 10, 11, 12, 13, 14, 15, 16]"
            ]
          },
          "metadata": {},
          "execution_count": 9
        }
      ]
    },
    {
      "cell_type": "markdown",
      "source": [
        "- Combine filter and lambda function"
      ],
      "metadata": {
        "id": "f6E2HO7L9Ryp"
      }
    },
    {
      "cell_type": "code",
      "source": [
        "a = [1,2,3,4,5,6,7,8,9]\n",
        "\n",
        "newlist = list(filter(lambda x: x%2==0,a))\n",
        "\n",
        "newlist"
      ],
      "metadata": {
        "id": "aaHtAobQ9VXY",
        "colab": {
          "base_uri": "https://localhost:8080/"
        },
        "outputId": "f81b470f-a3b1-4928-c8e6-bc88d34ff4fd"
      },
      "execution_count": 10,
      "outputs": [
        {
          "output_type": "execute_result",
          "data": {
            "text/plain": [
              "[2, 4, 6, 8]"
            ]
          },
          "metadata": {},
          "execution_count": 10
        }
      ]
    },
    {
      "cell_type": "markdown",
      "source": [
        "### Homework\n",
        "- Define a function `expo_list(input_list)`  that keeps the first inner list, square the second and cube the last one.\n",
        "   - E.g. `L = [[1, 2], [2, 3, 4], [5, 6, 7]]` `expo_list(L) => [[1, 2], [4, 9, 16], [125, 216, 343]]`"
      ],
      "metadata": {
        "id": "fM2yjaDi-OQW"
      }
    },
    {
      "cell_type": "code",
      "source": [
        "def expo_list(input_list):\n",
        "    return [input_list[0],list(map(lambda x: x ** 2, input_list[1])),list(map(lambda x: x ** 3, input_list[2]))]\n",
        "\n",
        "L = [[1, 2], [2, 3, 4], [5, 6, 7]]\n",
        "expo_list(L)"
      ],
      "metadata": {
        "id": "MySnO0MM6Das",
        "colab": {
          "base_uri": "https://localhost:8080/"
        },
        "outputId": "f9f19c6d-8a92-40fa-eacf-63b4a45393fa"
      },
      "execution_count": 1,
      "outputs": [
        {
          "output_type": "execute_result",
          "data": {
            "text/plain": [
              "[[1, 2], [4, 9, 16], [125, 216, 343]]"
            ]
          },
          "metadata": {},
          "execution_count": 1
        }
      ]
    }
  ]
}