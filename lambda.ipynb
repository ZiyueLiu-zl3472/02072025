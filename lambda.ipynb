{
  "nbformat": 4,
  "nbformat_minor": 0,
  "metadata": {
    "colab": {
      "provenance": [],
      "include_colab_link": true
    },
    "kernelspec": {
      "name": "python3",
      "display_name": "Python 3"
    },
    "language_info": {
      "name": "python"
    }
  },
  "cells": [
    {
      "cell_type": "markdown",
      "metadata": {
        "id": "view-in-github",
        "colab_type": "text"
      },
      "source": [
        "<a href=\"https://colab.research.google.com/github/ZiyueLiu-zl3472/week-9/blob/main/lambda.ipynb\" target=\"_parent\"><img src=\"https://colab.research.google.com/assets/colab-badge.svg\" alt=\"Open In Colab\"/></a>"
      ]
    },
    {
      "cell_type": "markdown",
      "source": [
        "## `lambda` function\n",
        "[Video](https://drive.google.com/file/d/10gjUrxGP0mt_USvL-KCRQt909qSQJ4I-/view?usp=sharing)"
      ],
      "metadata": {
        "id": "qiT576Ve6Cgz"
      }
    },
    {
      "cell_type": "markdown",
      "source": [
        "- Create an example list"
      ],
      "metadata": {
        "id": "UNMxKNQlWfCe"
      }
    },
    {
      "cell_type": "code",
      "execution_count": null,
      "metadata": {
        "id": "UwwLVBpsWfCf"
      },
      "outputs": [],
      "source": [
        "data = list(range(40,46))\n",
        "data"
      ]
    },
    {
      "cell_type": "markdown",
      "source": [
        "- Create the first function\n"
      ],
      "metadata": {
        "id": "HW_PaGGwWfCf"
      }
    },
    {
      "cell_type": "code",
      "source": [
        "def func(x):\n",
        "  return x+7"
      ],
      "metadata": {
        "id": "OBmP8qxsWfCf"
      },
      "execution_count": null,
      "outputs": []
    },
    {
      "cell_type": "markdown",
      "source": [
        "- Create the second function\n"
      ],
      "metadata": {
        "id": "Wo5iJnGqWfCg"
      }
    },
    {
      "cell_type": "code",
      "source": [
        "def func2(x):\n",
        "  return x**7"
      ],
      "metadata": {
        "id": "edwO4CCLWfCg"
      },
      "execution_count": null,
      "outputs": []
    },
    {
      "cell_type": "markdown",
      "source": [
        "- Normal way to put second function into first function"
      ],
      "metadata": {
        "id": "1UKZolJXWfCg"
      }
    },
    {
      "cell_type": "code",
      "source": [
        "func(func2(2))"
      ],
      "metadata": {
        "id": "XPYGqG7mWfCg"
      },
      "execution_count": null,
      "outputs": []
    },
    {
      "cell_type": "markdown",
      "source": [
        "- Use lambda function to get same result by creating only one function\n",
        "- The advantage is that you don't have to define equations that you will only use a few times, thus simplifying the code\n",
        "\n",
        "\n"
      ],
      "metadata": {
        "id": "k_JA1OPoWfCg"
      }
    },
    {
      "cell_type": "code",
      "source": [
        "def func(x):\n",
        "  func2 = lambda x : x**7\n",
        "  return func2(x)+7\n",
        "\n",
        "func(2)"
      ],
      "metadata": {
        "id": "qnvC7ca-WfCh"
      },
      "execution_count": null,
      "outputs": []
    },
    {
      "cell_type": "markdown",
      "source": [
        "- Lambda function can take any number of parameters.\n",
        "\n",
        "\n"
      ],
      "metadata": {
        "id": "1-xM_1wtWfCh"
      }
    },
    {
      "cell_type": "code",
      "source": [
        "func3 = lambda x,y : x+y\n",
        "func3(5,5)"
      ],
      "metadata": {
        "id": "KmF0ljwpWfCh"
      },
      "execution_count": null,
      "outputs": []
    },
    {
      "cell_type": "markdown",
      "source": [
        "- You can also set the value of the lambda directly in its parameters\n"
      ],
      "metadata": {
        "id": "Ge590aS418TX"
      }
    },
    {
      "cell_type": "code",
      "source": [
        "func3 = lambda x,y=5 : x+y\n",
        "func3(5)"
      ],
      "metadata": {
        "id": "4AqMHHH82BEr"
      },
      "execution_count": null,
      "outputs": []
    },
    {
      "cell_type": "markdown",
      "source": [
        "- Combine map function and lambda function"
      ],
      "metadata": {
        "id": "sAyU6aNF4krt"
      }
    },
    {
      "cell_type": "code",
      "source": [
        "a = [1,2,3,4,5,6,7,8,9]\n",
        "\n",
        "newlist = list(map(lambda x: x+7,a))\n",
        "\n",
        "newlist"
      ],
      "metadata": {
        "id": "O9_vmwdm4or-"
      },
      "execution_count": null,
      "outputs": []
    },
    {
      "cell_type": "markdown",
      "source": [
        "- Combine filter and lambda function"
      ],
      "metadata": {
        "id": "f6E2HO7L9Ryp"
      }
    },
    {
      "cell_type": "code",
      "source": [
        "a = [1,2,3,4,5,6,7,8,9]\n",
        "\n",
        "newlist = list(filter(lambda x: x%2==0,a))\n",
        "\n",
        "newlist"
      ],
      "metadata": {
        "id": "aaHtAobQ9VXY"
      },
      "execution_count": null,
      "outputs": []
    },
    {
      "cell_type": "markdown",
      "source": [
        "### Homework\n",
        "- Define a function `expo_list(input_list)`  that keeps the first inner list, square the second and cube the last one.\n",
        "   - E.g. `L = [[1, 2], [2, 3, 4], [5, 6, 7]]` `expo_list(L) => [[1, 2], [4, 9, 16], [125, 216, 343]]`"
      ],
      "metadata": {
        "id": "fM2yjaDi-OQW"
      }
    },
    {
      "cell_type": "code",
      "source": [
        "def expo_list(input_list):\n",
        "    \"\"\"\n",
        "    :param input_list: a nested list\n",
        "    :return: the first inner list, square the second and cube the last one\n",
        "    \"\"\"\n",
        "    pass"
      ],
      "metadata": {
        "id": "MySnO0MM6Das"
      },
      "execution_count": null,
      "outputs": []
    }
  ]
}