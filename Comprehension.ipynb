{
  "nbformat": 4,
  "nbformat_minor": 0,
  "metadata": {
    "colab": {
      "provenance": [],
      "include_colab_link": true
    },
    "kernelspec": {
      "name": "python3",
      "display_name": "Python 3"
    },
    "language_info": {
      "name": "python"
    }
  },
  "cells": [
    {
      "cell_type": "markdown",
      "metadata": {
        "id": "view-in-github",
        "colab_type": "text"
      },
      "source": [
        "<a href=\"https://colab.research.google.com/github/ZiyueLiu-zl3472/week-9/blob/main/Comprehension.ipynb\" target=\"_parent\"><img src=\"https://colab.research.google.com/assets/colab-badge.svg\" alt=\"Open In Colab\"/></a>"
      ]
    },
    {
      "cell_type": "markdown",
      "source": [
        "## List Comprehension\n",
        "[Video](https://drive.google.com/file/d/119xERT3_QqIzec6csrVuYjbnel-PheEC/view?usp=sharing)"
      ],
      "metadata": {
        "id": "Ophg0Cfr6Dze"
      }
    },
    {
      "cell_type": "markdown",
      "source": [
        "- Using a for loop to iterate through a list."
      ],
      "metadata": {
        "id": "_jMwhslmC9rL"
      }
    },
    {
      "cell_type": "code",
      "execution_count": 5,
      "metadata": {
        "id": "eEe-Mu6jR4QL",
        "outputId": "eb3648f4-1763-41fb-f41b-0949d576381b",
        "colab": {
          "base_uri": "https://localhost:8080/"
        }
      },
      "outputs": [
        {
          "output_type": "stream",
          "name": "stdout",
          "text": [
            "[1, 2, 3, 4, 5, 6, 7, 8, 9, 10]\n"
          ]
        }
      ],
      "source": [
        "nums = [1,2,3,4,5,6,7,8,9,10]\n",
        "\n",
        "my_list = [] #create a new list one element at a time\n",
        "for n in nums:\n",
        "  my_list.append(n)\n",
        "print(my_list)"
      ]
    },
    {
      "cell_type": "markdown",
      "source": [
        "- Using a for loop to square all the elements in the list."
      ],
      "metadata": {
        "id": "WadxDmQIDAYy"
      }
    },
    {
      "cell_type": "code",
      "source": [
        "my_list = []\n",
        "for n in nums:\n",
        "  my_list.append(n*n)\n",
        "print(my_list)"
      ],
      "metadata": {
        "id": "-8YfroJuSB0J",
        "outputId": "bd2cbdd0-a9eb-479e-d59b-03f684373ae8",
        "colab": {
          "base_uri": "https://localhost:8080/"
        }
      },
      "execution_count": 2,
      "outputs": [
        {
          "output_type": "stream",
          "name": "stdout",
          "text": [
            "[1, 4, 9, 16, 25, 36, 49, 64, 81, 100]\n"
          ]
        }
      ]
    },
    {
      "cell_type": "markdown",
      "source": [
        "- Using a map + lambda"
      ],
      "metadata": {
        "id": "HAF5dDQNFnvb"
      }
    },
    {
      "cell_type": "code",
      "source": [
        "my_list = list(map(lambda n: n*n, nums)) #same thing as above\n",
        "print(my_list)"
      ],
      "metadata": {
        "id": "dnzaNHGtDK8C",
        "outputId": "32810a88-b651-4181-8ba9-9cdcdbeea23e",
        "colab": {
          "base_uri": "https://localhost:8080/"
        }
      },
      "execution_count": 6,
      "outputs": [
        {
          "output_type": "stream",
          "name": "stdout",
          "text": [
            "[1, 4, 9, 16, 25, 36, 49, 64, 81, 100]\n"
          ]
        }
      ]
    },
    {
      "cell_type": "markdown",
      "source": [
        "- List comprehensions are another notation for defining lists. They mimic the mathematical notation of “set comprehensions” and have a concise syntax.\n",
        "- In one step, list comprehensions can perform the combined operation of any filter and map.\n",
        "\n",
        "```\n",
        "[ <expresion> for <element> in <list>]\n",
        "```"
      ],
      "metadata": {
        "id": "tzHjJ75xLyBT"
      }
    },
    {
      "cell_type": "code",
      "source": [
        "[n*n for n in nums] #functional value, element, list"
      ],
      "metadata": {
        "id": "nFGrp3euMiwx",
        "outputId": "d69cdf5d-96ec-4cfa-8030-0919283df69c",
        "colab": {
          "base_uri": "https://localhost:8080/"
        }
      },
      "execution_count": 7,
      "outputs": [
        {
          "output_type": "execute_result",
          "data": {
            "text/plain": [
              "[1, 4, 9, 16, 25, 36, 49, 64, 81, 100]"
            ]
          },
          "metadata": {},
          "execution_count": 7
        }
      ]
    },
    {
      "cell_type": "markdown",
      "source": [
        "- We only square the element in the list if the element is even."
      ],
      "metadata": {
        "id": "WIEw0JdNNAxU"
      }
    },
    {
      "cell_type": "code",
      "source": [
        "my_list = []\n",
        "for n in nums:\n",
        "   if n%2 == 0:\n",
        "     my_list.append(n)\n",
        "print(my_list)"
      ],
      "metadata": {
        "id": "hLpYk_wODOGy",
        "outputId": "575cbebd-04b1-4e26-c383-69cef5e4de3e",
        "colab": {
          "base_uri": "https://localhost:8080/"
        }
      },
      "execution_count": 8,
      "outputs": [
        {
          "output_type": "stream",
          "name": "stdout",
          "text": [
            "[2, 4, 6, 8, 10]\n"
          ]
        }
      ]
    },
    {
      "cell_type": "markdown",
      "source": [
        "- We can also use list comprehension. The syntax for if conditions in the list comprehension is as follows.\n",
        "```\n",
        "[ <expresion> for <element> in <list> if <boolean>]\n",
        "```"
      ],
      "metadata": {
        "id": "ThdoZae7MjXP"
      }
    },
    {
      "cell_type": "code",
      "source": [
        "[n*n for n in nums if n%2 == 0]"
      ],
      "metadata": {
        "id": "rw_RLmtLNPyx",
        "outputId": "aa02a7b3-8ceb-4cb6-c0f0-612607cd1bbd",
        "colab": {
          "base_uri": "https://localhost:8080/"
        }
      },
      "execution_count": 9,
      "outputs": [
        {
          "output_type": "execute_result",
          "data": {
            "text/plain": [
              "[4, 16, 36, 64, 100]"
            ]
          },
          "metadata": {},
          "execution_count": 9
        }
      ]
    },
    {
      "cell_type": "markdown",
      "source": [
        "- Consider the list comprehension that squares even element in a list and adds two to every odd element, as follows:"
      ],
      "metadata": {
        "id": "08EIsSfcQBsN"
      }
    },
    {
      "cell_type": "code",
      "source": [
        "[ x*x if x%2 == 0 else x+2 for x in [1, 2, 3, 4, 5] ]"
      ],
      "metadata": {
        "id": "0edMERJ06EqK",
        "outputId": "82d65567-035e-4194-b3aa-349fa7812211",
        "colab": {
          "base_uri": "https://localhost:8080/"
        }
      },
      "execution_count": 10,
      "outputs": [
        {
          "output_type": "execute_result",
          "data": {
            "text/plain": [
              "[3, 4, 5, 16, 7]"
            ]
          },
          "metadata": {},
          "execution_count": 10
        }
      ]
    },
    {
      "cell_type": "markdown",
      "source": [
        "### Homework\n",
        "- Define a function `list_comp(input_list)`, that uses list comprehension to assign `a` to the numbers greater than 8; `b` to the numbers less or equal to 8 and greater than 5; `c` to everything else.\n",
        "- You can assume that all the elements in the `input_list` are integers.\n",
        "  - E.g. `list_comp(range(1, 11))` => `['c', 'c', 'c', 'c', 'c', 'b', 'b', 'b', 'a', 'a']`"
      ],
      "metadata": {
        "id": "2hwiOt0qwXBk"
      }
    },
    {
      "cell_type": "code",
      "source": [
        "def list_comp(input_list):\n",
        "    return ['a' if x > 8 else 'b' if x > 5 else 'c' for x in input_list]\n",
        "\n",
        "list_comp(range(1, 11))"
      ],
      "metadata": {
        "id": "2RowLNCVQHy7",
        "outputId": "c0351685-41b1-48d3-f173-03bba0d30e4a",
        "colab": {
          "base_uri": "https://localhost:8080/"
        }
      },
      "execution_count": 11,
      "outputs": [
        {
          "output_type": "execute_result",
          "data": {
            "text/plain": [
              "['c', 'c', 'c', 'c', 'c', 'b', 'b', 'b', 'a', 'a']"
            ]
          },
          "metadata": {},
          "execution_count": 11
        }
      ]
    }
  ]
}