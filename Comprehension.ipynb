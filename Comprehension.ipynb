{
  "nbformat": 4,
  "nbformat_minor": 0,
  "metadata": {
    "colab": {
      "provenance": [],
      "include_colab_link": true
    },
    "kernelspec": {
      "name": "python3",
      "display_name": "Python 3"
    },
    "language_info": {
      "name": "python"
    }
  },
  "cells": [
    {
      "cell_type": "markdown",
      "metadata": {
        "id": "view-in-github",
        "colab_type": "text"
      },
      "source": [
        "<a href=\"https://colab.research.google.com/github/ZiyueLiu-zl3472/week-9/blob/main/Comprehension.ipynb\" target=\"_parent\"><img src=\"https://colab.research.google.com/assets/colab-badge.svg\" alt=\"Open In Colab\"/></a>"
      ]
    },
    {
      "cell_type": "markdown",
      "source": [
        "## List Comprehension\n",
        "[Video](https://drive.google.com/file/d/119xERT3_QqIzec6csrVuYjbnel-PheEC/view?usp=sharing)"
      ],
      "metadata": {
        "id": "Ophg0Cfr6Dze"
      }
    },
    {
      "cell_type": "markdown",
      "source": [
        "- Using a for loop to iterate through a list."
      ],
      "metadata": {
        "id": "_jMwhslmC9rL"
      }
    },
    {
      "cell_type": "code",
      "execution_count": null,
      "metadata": {
        "id": "eEe-Mu6jR4QL"
      },
      "outputs": [],
      "source": [
        "nums = [1,2,3,4,5,6,7,8,9,10]\n",
        "\n",
        "my_list = []\n",
        "for n in nums:\n",
        "  my_list.append(n)\n",
        "print(my_list)"
      ]
    },
    {
      "cell_type": "markdown",
      "source": [
        "- Using a for loop to square all the elements in the list."
      ],
      "metadata": {
        "id": "WadxDmQIDAYy"
      }
    },
    {
      "cell_type": "code",
      "source": [
        "my_list = []\n",
        "for n in nums:\n",
        "  my_list.append(n*n)\n",
        "print(my_list)"
      ],
      "metadata": {
        "id": "-8YfroJuSB0J"
      },
      "execution_count": null,
      "outputs": []
    },
    {
      "cell_type": "markdown",
      "source": [
        "- Using a map + lambda"
      ],
      "metadata": {
        "id": "HAF5dDQNFnvb"
      }
    },
    {
      "cell_type": "code",
      "source": [
        "my_list = list(map(lambda n: n*n, nums))\n",
        "print(my_list)"
      ],
      "metadata": {
        "id": "dnzaNHGtDK8C"
      },
      "execution_count": null,
      "outputs": []
    },
    {
      "cell_type": "markdown",
      "source": [
        "- List comprehensions are another notation for defining lists. They mimic the mathematical notation of “set comprehensions” and have a concise syntax.\n",
        "- In one step, list comprehensions can perform the combined operation of any filter and map.\n",
        "\n",
        "```\n",
        "[ <expresion> for <element> in <list>]\n",
        "```"
      ],
      "metadata": {
        "id": "tzHjJ75xLyBT"
      }
    },
    {
      "cell_type": "code",
      "source": [
        "[n*n for n in nums]"
      ],
      "metadata": {
        "id": "nFGrp3euMiwx"
      },
      "execution_count": null,
      "outputs": []
    },
    {
      "cell_type": "markdown",
      "source": [
        "- We only square the element in the list if the element is even."
      ],
      "metadata": {
        "id": "WIEw0JdNNAxU"
      }
    },
    {
      "cell_type": "code",
      "source": [
        "my_list = []\n",
        "for n in nums:\n",
        "   if n%2 == 0:\n",
        "     my_list.append(n)\n",
        "print(my_list)"
      ],
      "metadata": {
        "id": "hLpYk_wODOGy"
      },
      "execution_count": null,
      "outputs": []
    },
    {
      "cell_type": "markdown",
      "source": [
        "- We can also use list comprehension. The syntax for if conditions in the list comprehension is as follows.\n",
        "```\n",
        "[ <expresion> for <element> in <list> if <boolean>]\n",
        "```"
      ],
      "metadata": {
        "id": "ThdoZae7MjXP"
      }
    },
    {
      "cell_type": "code",
      "source": [
        "[n*n for n in nums if n%2 == 0]"
      ],
      "metadata": {
        "id": "rw_RLmtLNPyx"
      },
      "execution_count": null,
      "outputs": []
    },
    {
      "cell_type": "markdown",
      "source": [
        "- Consider the list comprehension that squares even element in a list and adds two to every odd element, as follows:"
      ],
      "metadata": {
        "id": "08EIsSfcQBsN"
      }
    },
    {
      "cell_type": "code",
      "source": [
        "[ x* x if x%2 == 0 else x+2 for x in [1, 2, 3, 4, 5] ]"
      ],
      "metadata": {
        "id": "0edMERJ06EqK"
      },
      "execution_count": null,
      "outputs": []
    },
    {
      "cell_type": "markdown",
      "source": [
        "### Homework\n",
        "- Define a function `list_comp(input_list)`, that uses list comprehension to assign `a` to the numbers greater than 8; `b` to the numbers less or equal to 8 and greater than 5; `c` to everything else.\n",
        "- You can assume that all the elements in the `input_list` are integers.\n",
        "  - E.g. `list_comp(range(1, 11))` => `['c', 'c', 'c', 'c', 'c', 'b', 'b', 'b', 'a', 'a']`"
      ],
      "metadata": {
        "id": "2hwiOt0qwXBk"
      }
    },
    {
      "cell_type": "code",
      "source": [
        "def list_comp(input_list):\n",
        "    \"\"\"\n",
        "    :param input_list: a list of integers\n",
        "    :return: Assign `a` to the numbers greater than 8; `b` to the numbers less\n",
        "    or equal to 8 and greater than 5; `c` to everything else\n",
        "    \"\"\"\n",
        "    # Your code here\n",
        "    pass"
      ],
      "metadata": {
        "id": "2RowLNCVQHy7"
      },
      "execution_count": null,
      "outputs": []
    }
  ]
}