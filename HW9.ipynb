{
  "nbformat": 4,
  "nbformat_minor": 0,
  "metadata": {
    "colab": {
      "provenance": [],
      "authorship_tag": "ABX9TyO/90k2UycjKSppif8h6e6N",
      "include_colab_link": true
    },
    "kernelspec": {
      "name": "python3",
      "display_name": "Python 3"
    },
    "language_info": {
      "name": "python"
    }
  },
  "cells": [
    {
      "cell_type": "markdown",
      "metadata": {
        "id": "view-in-github",
        "colab_type": "text"
      },
      "source": [
        "<a href=\"https://colab.research.google.com/github/ZiyueLiu-zl3472/week9/blob/main/HW9.ipynb\" target=\"_parent\"><img src=\"https://colab.research.google.com/assets/colab-badge.svg\" alt=\"Open In Colab\"/></a>"
      ]
    },
    {
      "cell_type": "markdown",
      "source": [
        "Map"
      ],
      "metadata": {
        "id": "sBBkhYZpAdnY"
      }
    },
    {
      "cell_type": "code",
      "execution_count": null,
      "metadata": {
        "colab": {
          "base_uri": "https://localhost:8080/"
        },
        "id": "59DbSGjzAE6Z",
        "outputId": "656ac166-5715-4978-8b62-e3e289586432"
      },
      "outputs": [
        {
          "output_type": "execute_result",
          "data": {
            "text/plain": [
              "[5, 4, 7]"
            ]
          },
          "metadata": {},
          "execution_count": 1
        }
      ],
      "source": [
        "def max_val(input_list):\n",
        "    return max(input_list)\n",
        "\n",
        "L = [[1,2,5], [4,3,3], [1,7,6]]\n",
        "list(map(max_val, L))"
      ]
    },
    {
      "cell_type": "markdown",
      "source": [
        "Filter"
      ],
      "metadata": {
        "id": "4vUnmaxyAhAA"
      }
    },
    {
      "cell_type": "code",
      "source": [
        "def filter_list(input_list):\n",
        "    return len(input_list)==3\n",
        "\n",
        "L = [[2, 5, 4, 9], [2, 2], [3, 4, 5]]\n",
        "list(filter(filter_list,L))"
      ],
      "metadata": {
        "colab": {
          "base_uri": "https://localhost:8080/"
        },
        "id": "4ws_XtNLAgpZ",
        "outputId": "ee7ae0bc-a195-4e74-84a5-05101c9ade7e"
      },
      "execution_count": null,
      "outputs": [
        {
          "output_type": "execute_result",
          "data": {
            "text/plain": [
              "[[3, 4, 5]]"
            ]
          },
          "metadata": {},
          "execution_count": 2
        }
      ]
    },
    {
      "cell_type": "markdown",
      "source": [
        "Lambda"
      ],
      "metadata": {
        "id": "SVzCUgpTAoX8"
      }
    },
    {
      "cell_type": "code",
      "source": [
        "def expo_list(input_list):\n",
        "    return [input_list[0],list(map(lambda x: x ** 2, input_list[1])),list(map(lambda x: x ** 3, input_list[2]))]\n",
        "\n",
        "L = [[1, 2], [2, 3, 4], [5, 6, 7]]\n",
        "expo_list(L)"
      ],
      "metadata": {
        "id": "12OwKqVXAgmr"
      },
      "execution_count": null,
      "outputs": []
    },
    {
      "cell_type": "markdown",
      "source": [
        "Comprehension"
      ],
      "metadata": {
        "id": "yMtWrZZyArAI"
      }
    },
    {
      "cell_type": "code",
      "source": [
        "def list_comp(input_list):\n",
        "    return ['a' if x > 8 else 'b' if x > 5 else 'c' for x in input_list]\n",
        "\n",
        "list_comp(range(1, 11))"
      ],
      "metadata": {
        "colab": {
          "base_uri": "https://localhost:8080/"
        },
        "id": "MPZLHBcjAgkF",
        "outputId": "1deaa10f-f348-4c53-ab6a-4faa66d54870"
      },
      "execution_count": null,
      "outputs": [
        {
          "output_type": "execute_result",
          "data": {
            "text/plain": [
              "['c', 'c', 'c', 'c', 'c', 'b', 'b', 'b', 'a', 'a']"
            ]
          },
          "metadata": {},
          "execution_count": 3
        }
      ]
    },
    {
      "cell_type": "markdown",
      "source": [
        "args_kwargs"
      ],
      "metadata": {
        "id": "hVV1_ThGAs6M"
      }
    },
    {
      "cell_type": "code",
      "source": [
        "def register_student(first_name, last_name, *args, **kwargs):\n",
        "    middle_name = args[0] if args else \"\"\n",
        "\n",
        "    if middle_name:\n",
        "        full_name = \"{} {} {}\".format(first_name, middle_name, last_name)\n",
        "    else:\n",
        "        full_name = \"{} {}\".format(first_name, last_name)\n",
        "\n",
        "    semester = kwargs.get('semester', None)\n",
        "    year = kwargs.get('year', None)\n",
        "    course = kwargs.get('course', None)\n",
        "\n",
        "    details_list = []\n",
        "    if semester is not None:\n",
        "        details_list.append(semester)\n",
        "    if year is not None:\n",
        "        details_list.append(year)\n",
        "    if course is not None:\n",
        "        details_list.append(course)\n",
        "\n",
        "    details = \" \".join(details_list)\n",
        "\n",
        "    if details:\n",
        "        return \"{} is registered for {}\".format(full_name, details)\n",
        "    else:\n",
        "        return \"{} is registered\".format(full_name)\n",
        "\n",
        "print(register_student('Jane', 'Doe', semester='Summer', year='2023'))\n",
        "print(register_student('John', 'Doe', 'Jack', semester='Summer', year='2023', course='AC4RM'))"
      ],
      "metadata": {
        "colab": {
          "base_uri": "https://localhost:8080/"
        },
        "id": "tksntC2HAggz",
        "outputId": "9992c0d1-215b-49d5-939a-4cb8312c47e7"
      },
      "execution_count": null,
      "outputs": [
        {
          "output_type": "stream",
          "name": "stdout",
          "text": [
            "Jane Doe is registered for Summer 2023\n",
            "John Jack Doe is registered for Summer 2023 AC4RM\n"
          ]
        }
      ]
    },
    {
      "cell_type": "markdown",
      "source": [
        "Decorator"
      ],
      "metadata": {
        "id": "ivbqR92HAxXk"
      }
    },
    {
      "cell_type": "code",
      "source": [
        "import datetime\n",
        "\n",
        "def time_it(func):\n",
        "    def wrapper(*args, **kwargs):\n",
        "        start = datetime.datetime.now()\n",
        "        result = func(*args, **kwargs)\n",
        "        end = datetime.datetime.now()\n",
        "        elapsed_time = (end - start).total_seconds()\n",
        "        return \"The function {} takes {} seconds\".format(func.__name__, elapsed_time)\n",
        "    return wrapper\n",
        "\n",
        "@time_it\n",
        "def time(n):\n",
        "    total = 0\n",
        "    for i in range(n):\n",
        "        total += i\n",
        "    return total\n",
        "\n",
        "print(time(1000000))"
      ],
      "metadata": {
        "id": "9-0qAB8MAgaf"
      },
      "execution_count": null,
      "outputs": []
    },
    {
      "cell_type": "markdown",
      "source": [
        "Contexts"
      ],
      "metadata": {
        "id": "sw-aVHwlAx6G"
      }
    },
    {
      "cell_type": "code",
      "source": [
        "import contextlib\n",
        "import datetime\n",
        "\n",
        "@contextlib.contextmanager\n",
        "def time_it():\n",
        "    start_time = datetime.datetime.now()\n",
        "    try:\n",
        "        yield\n",
        "    finally:\n",
        "        end_time = datetime.datetime.now()\n",
        "        elapsed_time = (end_time - start_time).total_seconds()\n",
        "        print(\"The function takes \" + str(round(elapsed_time, 5)) + \" seconds\")\n",
        "\n",
        "with time_it():\n",
        "    total = 0\n",
        "    for i in range(1000000):\n",
        "        total += i"
      ],
      "metadata": {
        "colab": {
          "base_uri": "https://localhost:8080/"
        },
        "id": "nzt886GCAgRK",
        "outputId": "8165bc15-2879-4c08-f19d-a7e2950564f7"
      },
      "execution_count": null,
      "outputs": [
        {
          "output_type": "stream",
          "name": "stdout",
          "text": [
            "The function takes 0.14457 seconds\n"
          ]
        }
      ]
    }
  ]
}