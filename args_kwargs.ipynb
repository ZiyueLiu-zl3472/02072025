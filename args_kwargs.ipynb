{
  "nbformat": 4,
  "nbformat_minor": 0,
  "metadata": {
    "colab": {
      "provenance": [],
      "include_colab_link": true
    },
    "kernelspec": {
      "name": "python3",
      "display_name": "Python 3"
    },
    "language_info": {
      "name": "python"
    }
  },
  "cells": [
    {
      "cell_type": "markdown",
      "metadata": {
        "id": "view-in-github",
        "colab_type": "text"
      },
      "source": [
        "<a href=\"https://colab.research.google.com/github/ZiyueLiu-zl3472/week9/blob/main/args_kwargs.ipynb\" target=\"_parent\"><img src=\"https://colab.research.google.com/assets/colab-badge.svg\" alt=\"Open In Colab\"/></a>"
      ]
    },
    {
      "cell_type": "markdown",
      "source": [
        "## `*args` & `**kwargs`"
      ],
      "metadata": {
        "id": "Ua_Um_7qdRM3"
      }
    },
    {
      "cell_type": "markdown",
      "source": [
        "- What is `*args`?\n",
        "  - `*args` is used to pass a variable number of arguments to a function. It is used to pass a non-key worded, variable-length argument list.\n",
        "  - Use the symbol `*` to take in a variable number of arguments; Usually used with the word `args`.\n",
        "  - `*args` allows you to take in more arguments than the number of arguments that you previously defined. Any number of extra arguments can be tacked on to your current parameters (including zero extra arguments).\n",
        "  - Using the `*`, the variable that we associate with the `*` becomes an iterable meaning you can do things like iterate over it, run some higher-order functions such as map and filter.\n",
        "\n",
        "\n"
      ],
      "metadata": {
        "id": "uu9DebsOdZF0"
      }
    },
    {
      "cell_type": "code",
      "execution_count": 1,
      "metadata": {
        "id": "M2VTYSs4dZF0"
      },
      "outputs": [],
      "source": [
        "def my_fun(*args):\n",
        "\tprint(type(args))\n",
        "\tfor arg in args: #print each arg\n",
        "\t\tprint(arg)"
      ]
    },
    {
      "cell_type": "code",
      "source": [
        "my_fun('Hello', 'Welcome', 'to', 'our', 'class') #I dont know how many arg, but i just operate on each one of them and process all arguments"
      ],
      "metadata": {
        "id": "erhl4N6FWcNK",
        "outputId": "7630270d-a435-4c98-f33e-2dfdf5fbccb6",
        "colab": {
          "base_uri": "https://localhost:8080/"
        }
      },
      "execution_count": 2,
      "outputs": [
        {
          "output_type": "stream",
          "name": "stdout",
          "text": [
            "<class 'tuple'>\n",
            "Hello\n",
            "Welcome\n",
            "to\n",
            "our\n",
            "class\n"
          ]
        }
      ]
    },
    {
      "cell_type": "markdown",
      "source": [
        "- What is `**kwargs`?\n",
        " - kwargs is used to pass a keyworded, variable-length argument list.\n",
        " - The `**` allows us to pass through keyword arguments (and any number of them).\n",
        " - A keyword argument is where you provide a name to the variable as you pass it into the function.\n",
        " - We can think of the `kwargs` as being a dictionary that maps each keyword to the value that we pass alongside it.\n"
      ],
      "metadata": {
        "id": "2MKksQu6dZF1"
      }
    },
    {
      "cell_type": "code",
      "source": [
        "def my_fun(**kwargs):\n",
        "\tprint(type(kwargs))\n",
        "\tfor key in kwargs:\n",
        "\t\tprint(key, kwargs[key])"
      ],
      "metadata": {
        "id": "SZFth_TEdZF1"
      },
      "execution_count": null,
      "outputs": []
    },
    {
      "cell_type": "markdown",
      "source": [
        "- For `first='Welcome'`, `first` is the key and `Welcome` is the value.\n",
        "- In simple words, what we assign is the value, and to whom we assign is the key."
      ],
      "metadata": {
        "id": "Vagk7s86YA7G"
      }
    },
    {
      "cell_type": "code",
      "source": [
        "my_fun(first='Welcome', second='to', third='class')"
      ],
      "metadata": {
        "id": "BhmyYxW5Xzmh"
      },
      "execution_count": null,
      "outputs": []
    },
    {
      "cell_type": "markdown",
      "source": [
        "- We also can use a extra single argument and `**kwargs` together"
      ],
      "metadata": {
        "id": "cYFl9v0ldZF1"
      }
    },
    {
      "cell_type": "code",
      "source": [
        "def my_fun(arg1, **kwargs):\n",
        "\tprint(arg1)\n",
        "\tfor key in kwargs:\n",
        "\t\tprint(key, kwargs[key])"
      ],
      "metadata": {
        "id": "ytT4CcewdZF2"
      },
      "execution_count": null,
      "outputs": []
    },
    {
      "cell_type": "code",
      "source": [
        "my_fun(\"Hi\", first='Welcome', second='to', third='class')"
      ],
      "metadata": {
        "id": "ybYY5OZDYclI"
      },
      "execution_count": null,
      "outputs": []
    },
    {
      "cell_type": "markdown",
      "source": [
        "- Using both `*` and `**` to call a function\n",
        " - Here, we are passing `*args` and `**kwargs` as arguments in the `my_fun` function."
      ],
      "metadata": {
        "id": "nHlbGrxbdZF2"
      }
    },
    {
      "cell_type": "code",
      "source": [
        "def my_fun(*args, **kwargs):\n",
        "\tprint(\"args: \", args)\n",
        "\tprint(\"kwargs: \", kwargs)\n",
        "\n",
        "# Now we can use both *args and **kwargs\n",
        "my_fun('Welcome', 'to', 'class', first=\"Welcome\", second=\"to\", third=\"class\")"
      ],
      "metadata": {
        "id": "idZW_FkUdZF2"
      },
      "execution_count": null,
      "outputs": []
    },
    {
      "cell_type": "markdown",
      "source": [
        "- Using `*` and `**` to set attributes of class object\n",
        "  - `*args` receives arguments as a tuple.\n",
        "  - `**kwargs` receives arguments as a dictionary.\n",
        "\n"
      ],
      "metadata": {
        "id": "_etYlg4xdZF3"
      }
    },
    {
      "cell_type": "code",
      "source": [
        "class People():\n",
        "\tdef __init__(self, *args):\n",
        "\t\tself.height = args[0]\n",
        "\t\tself.weight= args[1]\n",
        "\t\tself.interests= args[2]\n",
        "\n",
        "mike = People(160, 150, 'Ski')\n",
        "jack = People(170, 160, 'Travel')\n",
        "tom = People(180, 170, 'Sleep')\n",
        "\n",
        "print(mike.height)\n",
        "print(jack.weight)\n",
        "print(tom.interests)"
      ],
      "metadata": {
        "id": "qYY0svgEdZF3"
      },
      "execution_count": null,
      "outputs": []
    },
    {
      "cell_type": "code",
      "source": [
        "class People():\n",
        "\tdef __init__(self, **kwargs): # args receives unlimited number of arguments\n",
        "\t\tself.height = kwargs.get('h', None)\n",
        "\t\tself.weight = kwargs.get('w', None)\n",
        "\t\tself.interests = kwargs.get('i', None)\n",
        "\n",
        "mike = People(h=160, w=150, i='Ski')\n",
        "jack = People(h=170, w=160, i='Travel')\n",
        "tom = People(h=180, w=170, i='Sleep')\n",
        "\n",
        "print(mike.height)\n",
        "print(jack.weight)\n",
        "print(tom.interests)"
      ],
      "metadata": {
        "id": "H9jdI8uwdZF3"
      },
      "execution_count": null,
      "outputs": []
    },
    {
      "cell_type": "markdown",
      "source": [
        "- Note `args` and `kwargs` can be replaced with any aribtary name."
      ],
      "metadata": {
        "id": "M5KiLGKsdZF3"
      }
    },
    {
      "cell_type": "code",
      "source": [
        "def my_fun(*a, **k):\n",
        "\tprint(\"args: \", a)\n",
        "\tprint(\"kwargs: \", k)\n",
        "\n",
        "my_fun('Welcome', 'to', 'class', first=\"Welcome\", second=\"to\", third=\"class\")"
      ],
      "metadata": {
        "id": "FcyCMvW_dZF3"
      },
      "execution_count": null,
      "outputs": []
    },
    {
      "cell_type": "code",
      "source": [
        "# A quick way to set up classes with less typing.\n",
        "# This is dangerous and not common usage!\n",
        "# Use this only for quick examples.\n",
        "\n",
        "class MyClass:\n",
        "    def __init__(self, **kwargs):\n",
        "        for key, value in kwargs.items():\n",
        "            setattr(self, key, value)\n",
        "\n",
        "# Creating an instance of MyClass with attributes\n",
        "obj = MyClass(name=\"John\", age=30, occupation=\"Engineer\")\n",
        "\n",
        "# Accessing attributes\n",
        "print(obj.name)        # Output: John\n",
        "print(obj.age)         # Output: 30\n",
        "print(obj.occupation)  # Output: Engineer"
      ],
      "metadata": {
        "id": "2qSiHjC60nYa"
      },
      "execution_count": null,
      "outputs": []
    },
    {
      "cell_type": "markdown",
      "source": [
        "### Homework\n",
        "- Define a function called `register student` that takes two mandatory input arguments `first_name` and `last_name`.\n",
        "- If there is any other positional argument, take the first one as `middle_name`\n",
        "- The keyword argument can take **optional** keywords like `semester`, `year` and `course`.\n",
        "- Return a formatted string based on the input. '`{first_name} {last_name} {<middle_name>} is registered for {semester} {year} {course}`'\n",
        "- For example:\n",
        "    - `register_student('Jane', 'Doe', semester='Summer', year='2023')` => `'Jane Doe is registered for Summer 2023'`\n",
        "    - `register_student('John', 'Doe', 'Jack', semester='Summer', year='2023', course='AC4RM')` => `'John Jack Doe is registered for Summer 2023 AC4RM'`"
      ],
      "metadata": {
        "id": "ZhsoWoLldgGa"
      }
    },
    {
      "cell_type": "code",
      "source": [
        "def register_student(first_name, last_name, *args, **kwargs):\n",
        "    pass"
      ],
      "metadata": {
        "id": "ysK7zPKEeJi2"
      },
      "execution_count": null,
      "outputs": []
    }
  ]
}