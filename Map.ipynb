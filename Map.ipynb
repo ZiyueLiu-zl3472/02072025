{
  "nbformat": 4,
  "nbformat_minor": 0,
  "metadata": {
    "colab": {
      "provenance": [],
      "include_colab_link": true
    },
    "kernelspec": {
      "name": "python3",
      "display_name": "Python 3"
    },
    "language_info": {
      "name": "python"
    }
  },
  "cells": [
    {
      "cell_type": "markdown",
      "metadata": {
        "id": "view-in-github",
        "colab_type": "text"
      },
      "source": [
        "<a href=\"https://colab.research.google.com/github/ZiyueLiu-zl3472/week-9/blob/main/Map.ipynb\" target=\"_parent\"><img src=\"https://colab.research.google.com/assets/colab-badge.svg\" alt=\"Open In Colab\"/></a>"
      ]
    },
    {
      "cell_type": "markdown",
      "source": [
        "## `map` operator\n",
        "[Video](https://drive.google.com/file/d/10_LeRV_HIk-anLAmPnIS0Zp_ZArdN1Xc/view?usp=drive_link)"
      ],
      "metadata": {
        "id": "1nAUO7sS54rx"
      }
    },
    {
      "cell_type": "markdown",
      "source": [
        "- Create an example list"
      ],
      "metadata": {
        "id": "cN60tsG6-sUU"
      }
    },
    {
      "cell_type": "code",
      "execution_count": 1,
      "metadata": {
        "id": "TyWWKTGU9WkS",
        "outputId": "ab8879b6-f190-4abf-d5d2-0b7e033d2642",
        "colab": {
          "base_uri": "https://localhost:8080/"
        }
      },
      "outputs": [
        {
          "output_type": "execute_result",
          "data": {
            "text/plain": [
              "[40, 41, 42, 43, 44, 45]"
            ]
          },
          "metadata": {},
          "execution_count": 1
        }
      ],
      "source": [
        "data = list(range(40,46))\n",
        "data"
      ]
    },
    {
      "cell_type": "markdown",
      "source": [
        "- Create a function (FizzBuzz）\n"
      ],
      "metadata": {
        "id": "mzSyNQiu-0l9"
      }
    },
    {
      "cell_type": "code",
      "source": [
        "def fizz_buzz(x):\n",
        "    if x % 3 == 0 and x % 5 == 0:\n",
        "        return 'fizzbuzz'\n",
        "    elif x % 3 == 0:\n",
        "        return 'fizz'\n",
        "    elif x % 5 == 0:\n",
        "        return 'buzz'\n",
        "    else:\n",
        "        return x"
      ],
      "metadata": {
        "id": "210QrbnD-ASt"
      },
      "execution_count": 2,
      "outputs": []
    },
    {
      "cell_type": "markdown",
      "source": [
        "- It wouldn't work if you put list into function directly.\n",
        "- **You need put the data in function one by one**"
      ],
      "metadata": {
        "id": "vHFkJ5HRBiPV"
      }
    },
    {
      "cell_type": "code",
      "source": [
        "fizz_buzz(data) #this function is looking for 1 x, but data is a list"
      ],
      "metadata": {
        "id": "3hsgJ03SBBe4",
        "outputId": "9a766fac-2f36-4139-8723-c4365f29af94",
        "colab": {
          "base_uri": "https://localhost:8080/",
          "height": 258
        }
      },
      "execution_count": 3,
      "outputs": [
        {
          "output_type": "error",
          "ename": "TypeError",
          "evalue": "unsupported operand type(s) for %: 'list' and 'int'",
          "traceback": [
            "\u001b[0;31m---------------------------------------------------------------------------\u001b[0m",
            "\u001b[0;31mTypeError\u001b[0m                                 Traceback (most recent call last)",
            "\u001b[0;32m<ipython-input-3-0ad21f788d20>\u001b[0m in \u001b[0;36m<cell line: 0>\u001b[0;34m()\u001b[0m\n\u001b[0;32m----> 1\u001b[0;31m \u001b[0mfizz_buzz\u001b[0m\u001b[0;34m(\u001b[0m\u001b[0mdata\u001b[0m\u001b[0;34m)\u001b[0m\u001b[0;34m\u001b[0m\u001b[0;34m\u001b[0m\u001b[0m\n\u001b[0m",
            "\u001b[0;32m<ipython-input-2-c527de1af1f0>\u001b[0m in \u001b[0;36mfizz_buzz\u001b[0;34m(x)\u001b[0m\n\u001b[1;32m      1\u001b[0m \u001b[0;32mdef\u001b[0m \u001b[0mfizz_buzz\u001b[0m\u001b[0;34m(\u001b[0m\u001b[0mx\u001b[0m\u001b[0;34m)\u001b[0m\u001b[0;34m:\u001b[0m\u001b[0;34m\u001b[0m\u001b[0;34m\u001b[0m\u001b[0m\n\u001b[0;32m----> 2\u001b[0;31m     \u001b[0;32mif\u001b[0m \u001b[0mx\u001b[0m \u001b[0;34m%\u001b[0m \u001b[0;36m3\u001b[0m \u001b[0;34m==\u001b[0m \u001b[0;36m0\u001b[0m \u001b[0;32mand\u001b[0m \u001b[0mx\u001b[0m \u001b[0;34m%\u001b[0m \u001b[0;36m5\u001b[0m \u001b[0;34m==\u001b[0m \u001b[0;36m0\u001b[0m\u001b[0;34m:\u001b[0m\u001b[0;34m\u001b[0m\u001b[0;34m\u001b[0m\u001b[0m\n\u001b[0m\u001b[1;32m      3\u001b[0m         \u001b[0;32mreturn\u001b[0m \u001b[0;34m'fizzbuzz'\u001b[0m\u001b[0;34m\u001b[0m\u001b[0;34m\u001b[0m\u001b[0m\n\u001b[1;32m      4\u001b[0m     \u001b[0;32melif\u001b[0m \u001b[0mx\u001b[0m \u001b[0;34m%\u001b[0m \u001b[0;36m3\u001b[0m \u001b[0;34m==\u001b[0m \u001b[0;36m0\u001b[0m\u001b[0;34m:\u001b[0m\u001b[0;34m\u001b[0m\u001b[0;34m\u001b[0m\u001b[0m\n\u001b[1;32m      5\u001b[0m         \u001b[0;32mreturn\u001b[0m \u001b[0;34m'fizz'\u001b[0m\u001b[0;34m\u001b[0m\u001b[0;34m\u001b[0m\u001b[0m\n",
            "\u001b[0;31mTypeError\u001b[0m: unsupported operand type(s) for %: 'list' and 'int'"
          ]
        }
      ]
    },
    {
      "cell_type": "markdown",
      "source": [
        "- Normal way to put list into function (using append and for loop)"
      ],
      "metadata": {
        "id": "LV2r5sJP-4rw"
      }
    },
    {
      "cell_type": "code",
      "source": [
        "newlist = [] #create new for loop and for each x append results from fizzbuzz on x - for loop doing the loop\n",
        "for x in data:\n",
        "  newlist.append(fizz_buzz(x)) #each x is taking each of the element of the data list, turning into single item\n",
        "newlist"
      ],
      "metadata": {
        "id": "IU_IgP9S-Cdf",
        "outputId": "3a5d1cf4-2048-46b8-a30d-63fa1f4a4c3c",
        "colab": {
          "base_uri": "https://localhost:8080/"
        }
      },
      "execution_count": 3,
      "outputs": [
        {
          "output_type": "execute_result",
          "data": {
            "text/plain": [
              "['buzz', 41, 'fizz', 43, 44, 'fizzbuzz']"
            ]
          },
          "metadata": {},
          "execution_count": 3
        }
      ]
    },
    {
      "cell_type": "markdown",
      "source": [
        "- Simplify the above equation into one line"
      ],
      "metadata": {
        "id": "xe5ohekrCY0x"
      }
    },
    {
      "cell_type": "code",
      "source": [
        "[fizz_buzz(x) for x in data] #comprehension"
      ],
      "metadata": {
        "id": "Rx82jpBgAK2T",
        "outputId": "e1e998ab-45b6-4aa1-cdcb-42d0b94ed54d",
        "colab": {
          "base_uri": "https://localhost:8080/"
        }
      },
      "execution_count": 5,
      "outputs": [
        {
          "output_type": "execute_result",
          "data": {
            "text/plain": [
              "['buzz', 41, 'fizz', 43, 44, 'fizzbuzz']"
            ]
          },
          "metadata": {},
          "execution_count": 5
        }
      ]
    },
    {
      "cell_type": "markdown",
      "source": [
        "- Use `map()` function to put list into function by one line\n",
        "- The map formula takes two parameters, the formula and the data\n",
        "- You have to use the list() to turn the result of the map formula into a list\n",
        "\n"
      ],
      "metadata": {
        "id": "vaWpN3dz_HcJ"
      }
    },
    {
      "cell_type": "code",
      "source": [
        "list(map(fizz_buzz, data)) #2 arguments, first is function, second is a piece of data - list, apply this function to each element of list, turn it back to a new list"
      ],
      "metadata": {
        "id": "EoU-w-hE_FEb",
        "outputId": "e0ae9349-5b60-4e43-a53f-ad88d81f2bab",
        "colab": {
          "base_uri": "https://localhost:8080/"
        }
      },
      "execution_count": 6,
      "outputs": [
        {
          "output_type": "execute_result",
          "data": {
            "text/plain": [
              "['buzz', 41, 'fizz', 43, 44, 'fizzbuzz']"
            ]
          },
          "metadata": {},
          "execution_count": 6
        }
      ]
    },
    {
      "cell_type": "code",
      "source": [
        "map(fizz_buzz, data) #return a pointer to a list"
      ],
      "metadata": {
        "id": "OyF_hHkUXttz",
        "outputId": "e1a7098e-f7c9-4895-dcdd-fc7f46222637",
        "colab": {
          "base_uri": "https://localhost:8080/"
        }
      },
      "execution_count": 7,
      "outputs": [
        {
          "output_type": "execute_result",
          "data": {
            "text/plain": [
              "<map at 0x7bd5032e4fa0>"
            ]
          },
          "metadata": {},
          "execution_count": 7
        }
      ]
    },
    {
      "cell_type": "code",
      "source": [
        "list(map(fizz_buzz, data))"
      ],
      "metadata": {
        "id": "LFJzPLPvXxV8",
        "outputId": "6524b8e5-5323-44e0-94f9-864e16ddaadc",
        "colab": {
          "base_uri": "https://localhost:8080/"
        }
      },
      "execution_count": 8,
      "outputs": [
        {
          "output_type": "execute_result",
          "data": {
            "text/plain": [
              "['buzz', 41, 'fizz', 43, 44, 'fizzbuzz']"
            ]
          },
          "metadata": {},
          "execution_count": 8
        }
      ]
    },
    {
      "cell_type": "markdown",
      "source": [
        "### Homework\n",
        "- Define a function called `max_val(input_list)` that takes a nested list `input_list` and return the maximum value of each inner list.\n",
        "   - E.g. `L = [[1,2,5], [4,3,3], [1,7,6]]` `max_val(L) => [5,4,7]`"
      ],
      "metadata": {
        "id": "PAYbISzBaD69"
      }
    },
    {
      "cell_type": "code",
      "source": [
        "def max_val(x):\n",
        "  return max(x)\n",
        "\n",
        "L = [[1,2,5], [4,3,3], [1,7,6]] #first element (0th element):[1,2,5], second element (1st element)[4,3,3], third element (2nd element)[1,7,6]\n",
        "max_val(L[0]) #the max in the first element"
      ],
      "metadata": {
        "id": "xerU3y66np_2",
        "outputId": "911e207f-fcfe-4dd5-e905-c2a7e0683e47",
        "colab": {
          "base_uri": "https://localhost:8080/"
        }
      },
      "execution_count": 4,
      "outputs": [
        {
          "output_type": "execute_result",
          "data": {
            "text/plain": [
              "5"
            ]
          },
          "metadata": {},
          "execution_count": 4
        }
      ]
    },
    {
      "cell_type": "code",
      "source": [
        "def max_val(input_list):\n",
        "    return max(input_list)\n",
        "\n",
        "L = [[1,2,5], [4,3,3], [1,7,6]]\n",
        "list(map(max_val, L))"
      ],
      "metadata": {
        "id": "LBvxjiLSaEQC",
        "outputId": "df87edf6-1aab-4efa-80f4-bb9ac61ba544",
        "colab": {
          "base_uri": "https://localhost:8080/"
        }
      },
      "execution_count": 12,
      "outputs": [
        {
          "output_type": "execute_result",
          "data": {
            "text/plain": [
              "[5, 4, 7]"
            ]
          },
          "metadata": {},
          "execution_count": 12
        }
      ]
    }
  ]
}