{
  "nbformat": 4,
  "nbformat_minor": 0,
  "metadata": {
    "colab": {
      "provenance": [],
      "toc_visible": true,
      "include_colab_link": true
    },
    "kernelspec": {
      "name": "python3",
      "display_name": "Python 3"
    },
    "language_info": {
      "name": "python"
    }
  },
  "cells": [
    {
      "cell_type": "markdown",
      "metadata": {
        "id": "view-in-github",
        "colab_type": "text"
      },
      "source": [
        "<a href=\"https://colab.research.google.com/github/ZiyueLiu-zl3472/week9/blob/main/Decorator.ipynb\" target=\"_parent\"><img src=\"https://colab.research.google.com/assets/colab-badge.svg\" alt=\"Open In Colab\"/></a>"
      ]
    },
    {
      "cell_type": "markdown",
      "source": [
        "## Decorators"
      ],
      "metadata": {
        "id": "rACoC-FE6KYO"
      }
    },
    {
      "cell_type": "markdown",
      "source": [
        "- A decorator is a function that takes another function and extends the behavior of this function without explicitly modifying it. It is a very powerful tool that allows to add new functionality to an existing function.\n",
        "- There are two kinds of decorators:\n",
        "  - Function decoratos\n",
        "  - Class decorators\n"
      ],
      "metadata": {
        "id": "4HI6dI-DMpAV"
      }
    },
    {
      "cell_type": "markdown",
      "source": [
        "- Function decorators\n",
        "  - In order to understand the decorator pattern, we have to understand that functions in Python are first class objects, which means that – like any other object – they can be defined inside another function, passed as argument to another function, or returned from other functions.\n",
        "  - A decorator is a function that takes another function as argument, wraps its behaviour inside an inner function. and returns the wrapped function. As a consequence, the decorated function now has extended functionality!"
      ],
      "metadata": {
        "id": "dT_wUAoyM1hz"
      }
    },
    {
      "cell_type": "code",
      "source": [
        "# A decorator function takes another function as argument, wraps its behaviour inside\n",
        "# an inner function, and returns the wrapped function.\n",
        "def start_end_decorator(func):\n",
        "    def wrapper():\n",
        "        print('Start')\n",
        "        func()\n",
        "        print('End')\n",
        "    return wrapper\n",
        "\n",
        "def print_name():\n",
        "    print('Alex')"
      ],
      "metadata": {
        "id": "eqwb19ckM4W0"
      },
      "execution_count": null,
      "outputs": []
    },
    {
      "cell_type": "markdown",
      "source": [
        "- Now wrap the function by passing it as argument to the decorator function and asign the output to itself"
      ],
      "metadata": {
        "id": "prxx9ksdOpAo"
      }
    },
    {
      "cell_type": "code",
      "source": [
        "print_name = start_end_decorator(print_name)\n",
        "print_name()"
      ],
      "metadata": {
        "id": "2wW34ESVOoPd"
      },
      "execution_count": null,
      "outputs": []
    },
    {
      "cell_type": "markdown",
      "source": [
        "- The decorator syntax\n",
        "  - Instead of wrapping our function and asigning it to itself, we can achieve the same thing simply by decorating our function with an `@` symbol."
      ],
      "metadata": {
        "id": "t7HVcbvBM9r8"
      }
    },
    {
      "cell_type": "code",
      "source": [
        "@start_end_decorator\n",
        "def print_name():\n",
        "    print('Alex')\n",
        "\n",
        "print_name()"
      ],
      "metadata": {
        "id": "5g-9ahrFM-qp"
      },
      "execution_count": null,
      "outputs": []
    },
    {
      "cell_type": "markdown",
      "source": [
        "-  What about function arguments\n",
        "  - If our function has input arguments and we try to wrap it with our decorator above, it will raise a `TypeError` since we have to call our function inside the wrapper with this arguments, too. However, we can fix this by using `*args` and `**kwargs` in the inner function:"
      ],
      "metadata": {
        "id": "3UhJbu1SNBAg"
      }
    },
    {
      "cell_type": "code",
      "source": [
        "def start_end_decorator_2(func):\n",
        "\n",
        "    def wrapper(*args, **kwargs):\n",
        "        print('Start')\n",
        "        func(*args, **kwargs)\n",
        "        print('End')\n",
        "    return wrapper\n",
        "\n",
        "@start_end_decorator_2\n",
        "def add_5(x):\n",
        "    return x + 5\n",
        "\n",
        "result = add_5(10)\n",
        "print(result)"
      ],
      "metadata": {
        "id": "vetnB0ITNGA_"
      },
      "execution_count": null,
      "outputs": []
    },
    {
      "cell_type": "markdown",
      "source": [
        "- Return values\n",
        "  - Note that in the example above, we got `None` as the return value.\n",
        "  - Next step we return the value from our inner function\n"
      ],
      "metadata": {
        "id": "lQ4IQ02gNIOD"
      }
    },
    {
      "cell_type": "code",
      "source": [
        "def start_end_decorator_3(func):\n",
        "\n",
        "    def wrapper(*args, **kwargs):\n",
        "        print('Start')\n",
        "        result = func(*args, **kwargs)\n",
        "        print('End')\n",
        "        return result\n",
        "    return wrapper\n",
        "\n",
        "@start_end_decorator_3\n",
        "def add_5(x):\n",
        "    return x + 5\n",
        "\n",
        "result = add_5(10)\n",
        "print(result)"
      ],
      "metadata": {
        "id": "EGMnWeQ9NKmD"
      },
      "execution_count": null,
      "outputs": []
    },
    {
      "cell_type": "markdown",
      "source": [
        "- What about the function identity?\n",
        "  - If we have a look at the name of our decorated function, and inspect it with the built-in help function, we notice that Python thinks our function is now the wrapped inner function of the decorator function."
      ],
      "metadata": {
        "id": "bwbuSov9NOcb"
      }
    },
    {
      "cell_type": "code",
      "source": [
        "print(add_5.__name__)\n",
        "help(add_5)"
      ],
      "metadata": {
        "id": "qKMDifBwNO8q"
      },
      "execution_count": null,
      "outputs": []
    },
    {
      "cell_type": "markdown",
      "source": [
        "- To fix this, we can use the `functools.wraps` decorator, which will preserve the information about the original function.\n",
        "- This is helpful for introspection purposes, i.e. the ability of an object to know about its own attributes at runtime."
      ],
      "metadata": {
        "id": "fjcgLB5JNU7i"
      }
    },
    {
      "cell_type": "code",
      "source": [
        "import functools\n",
        "def start_end_decorator_4(func):\n",
        "\n",
        "    @functools.wraps(func)\n",
        "    def wrapper(*args, **kwargs):\n",
        "        print('Start')\n",
        "        result = func(*args, **kwargs)\n",
        "        print('End')\n",
        "        return result\n",
        "    return wrapper\n",
        "\n",
        "@start_end_decorator_4\n",
        "def add_5(x):\n",
        "    return x + 5\n",
        "result = add_5(10)\n",
        "print(result)\n",
        "print(add_5.__name__)\n",
        "help(add_5)"
      ],
      "metadata": {
        "id": "5FWvukSENVyp"
      },
      "execution_count": null,
      "outputs": []
    },
    {
      "cell_type": "markdown",
      "source": [
        "- The final template for own decorators."
      ],
      "metadata": {
        "id": "LAZMU9TzNZUT"
      }
    },
    {
      "cell_type": "code",
      "source": [
        "import functools\n",
        "\n",
        "def my_decorator(func):\n",
        "    @functools.wraps(func)\n",
        "    def wrapper(*args, **kwargs):\n",
        "        # Do something before\n",
        "        result = func(*args, **kwargs)\n",
        "        # Do something after\n",
        "        return result\n",
        "    return wrapper"
      ],
      "metadata": {
        "id": "h_lMjvW1NbpB"
      },
      "execution_count": null,
      "outputs": []
    },
    {
      "cell_type": "markdown",
      "source": [
        "- Decorator function arguments\n",
        "  - Note that `functools.wraps` is a decorator that takes an argument for itself. We can think of this as 2 inner functions, so an inner function within an inner function.\n",
        "  - To make this clearer, we look at another example: A repeat decorator that takes a number as input. Within this function, we have the actual decorator function that wraps our function and extends its behaviour within another inner function. In this case, it repeats the input function the given number of times."
      ],
      "metadata": {
        "id": "Be_LnHWINdqu"
      }
    },
    {
      "cell_type": "code",
      "source": [
        "def repeat(num_times):\n",
        "    def decorator_repeat(func):\n",
        "        @functools.wraps(func)\n",
        "        def wrapper(*args, **kwargs):\n",
        "            for _ in range(num_times):\n",
        "                result = func(*args, **kwargs)\n",
        "            return result\n",
        "        return wrapper\n",
        "    return decorator_repeat\n",
        "\n",
        "@repeat(num_times=3)\n",
        "def greet(name):\n",
        "    print(f\"Hello {name}\")\n",
        "\n",
        "greet('Alex')"
      ],
      "metadata": {
        "id": "1es35W86Nf9F"
      },
      "execution_count": null,
      "outputs": []
    },
    {
      "cell_type": "markdown",
      "source": [
        "- Nested Decorators\n",
        "  - We can apply several decorators to a function by stacking them on top of each other. The decorators are being executed in the order they are listed."
      ],
      "metadata": {
        "id": "Ml8gOyGdNh8X"
      }
    },
    {
      "cell_type": "code",
      "source": [
        "# a decorator function that prints debug information about the wrapped function\n",
        "def debug(func):\n",
        "    @functools.wraps(func)\n",
        "    def wrapper(*args, **kwargs):\n",
        "        args_repr = [repr(a) for a in args]\n",
        "        kwargs_repr = [f\"{k}={v!r}\" for k, v in kwargs.items()]\n",
        "        signature = \", \".join(args_repr + kwargs_repr)\n",
        "        print(f\"Calling {func.__name__}({signature})\")\n",
        "        result = func(*args, **kwargs)\n",
        "        print(f\"{func.__name__!r} returned {result!r}\")\n",
        "        return result\n",
        "    return wrapper\n",
        "\n",
        "@debug\n",
        "@start_end_decorator_4\n",
        "def say_hello(name):\n",
        "    greeting = f'Hello {name}'\n",
        "    print(greeting)\n",
        "    return greeting\n",
        "\n",
        "# now `debug` is executed first and calls `@start_end_decorator_4`, which then calls `say_hello`\n",
        "say_hello(name='Alex')"
      ],
      "metadata": {
        "id": "yF0hzR2MNkzS"
      },
      "execution_count": null,
      "outputs": []
    },
    {
      "cell_type": "markdown",
      "source": [
        "- Class decorators\n",
        "  - We can also use a class as a decorator. Therefore, we have to implement the `__call__()` method to make our object callable. Class decorators are typically used to maintain a state, e.g. here we keep track of the number of times our function is executed.\n",
        "  - The `__call__` method does essentially the same thing as the wrapper() method we have seen earlier. It adds some functionality, executes the function, and returns its result.\n",
        "  - Note that here we use `functools.update_wrapper()` instead of `functools`.wraps to preserve the information about our function."
      ],
      "metadata": {
        "id": "zhxolHHZNnIL"
      }
    },
    {
      "cell_type": "code",
      "source": [
        "import functools\n",
        "\n",
        "class CountCalls():\n",
        "    # the init needs to have the func as argument and stores it\n",
        "    def __init__(self, func):\n",
        "        functools.update_wrapper(self, func)\n",
        "        self.func = func\n",
        "        self.num_calls = 0\n",
        "\n",
        "    # extend functionality, execute function, and return the result\n",
        "    def __call__(self, *args, **kwargs):\n",
        "        self.num_calls += 1\n",
        "        print(f\"Call {self.num_calls} of {self.func.__name__!r}\")\n",
        "        return self.func(*args, **kwargs)\n",
        "\n",
        "@CountCalls\n",
        "def say_hello(num):\n",
        "    print(\"Hello!\")\n",
        "\n",
        "say_hello(5)\n",
        "say_hello(5)"
      ],
      "metadata": {
        "id": "6B7_qnpZNpQk"
      },
      "execution_count": null,
      "outputs": []
    },
    {
      "cell_type": "markdown",
      "source": [
        "### Homework\n",
        "\n",
        "- Implement a decorator function called `time_it` that will return the execution time of the decorated function.\n",
        "- The decorator should allow the function to take any number of arguments.\n",
        "- The decorator should return a string following this format below:\n",
        "    - `\"The function <name of the function> takes <0.00125> seconds\"`\n",
        "- You may use the functions from the Python [datetime](https://docs.python.org/3/library/datetime.html#timedelta-objects) module to calculate the time used."
      ],
      "metadata": {
        "id": "L61wubqFBdiC"
      }
    },
    {
      "cell_type": "code",
      "source": [
        "import datetime\n",
        "\n",
        "def time_it(func):\n",
        "    def wrapper(*args, **kwargs):\n",
        "        start = datetime.datetime.now()\n",
        "        result = func(*args, **kwargs)\n",
        "        end = datetime.datetime.now()\n",
        "        elapsed_time = (end - start).total_seconds()\n",
        "        return \"The function {} takes {} seconds\".format(func.__name__, elapsed_time)\n",
        "    return wrapper\n",
        "\n",
        "@time_it\n",
        "def time(n):\n",
        "    total = 0\n",
        "    for i in range(n):\n",
        "        total += i\n",
        "    return total\n",
        "\n",
        "print(time(1000000))"
      ],
      "metadata": {
        "id": "NKkGcAt26MzT",
        "outputId": "255eff83-7106-4092-ad81-991938ce7bed",
        "colab": {
          "base_uri": "https://localhost:8080/"
        }
      },
      "execution_count": 3,
      "outputs": [
        {
          "output_type": "stream",
          "name": "stdout",
          "text": [
            "The function time takes 0.057959 seconds\n"
          ]
        }
      ]
    }
  ]
}